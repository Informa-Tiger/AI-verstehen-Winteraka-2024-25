{
 "cells": [
  {
   "cell_type": "code",
   "execution_count": 3,
   "metadata": {},
   "outputs": [],
   "source": [
    "# 1. Setup und Imports\n",
    "import torch\n",
    "import torch.nn as nn\n",
    "from torch.utils.data import TensorDataset, DataLoader\n",
    "import matplotlib.pyplot as plt\n",
    "import wandb\n",
    "import numpy as np"
   ]
  },
  {
   "cell_type": "code",
   "execution_count": 4,
   "metadata": {},
   "outputs": [],
   "source": [
    "\n",
    "# 2. Daten generieren (gleiche Spiral-Funktion wie im Original)\n",
    "def spiral(phi):\n",
    "    x = (phi + 1) * torch.cos(phi)\n",
    "    y = phi * torch.sin(phi)\n",
    "    return torch.cat((x, y), dim=1)\n",
    "\n",
    "def generate_data(num_data):\n",
    "    angles = torch.empty((num_data, 1)).uniform_(1, 15)\n",
    "    data = spiral(angles)\n",
    "    data += torch.empty((num_data, 2)).normal_(0.0, 0.4)\n",
    "    labels = torch.zeros((num_data,), dtype=torch.int)\n",
    "    data[num_data // 2 :, :] *= -1\n",
    "    labels[num_data // 2 :] = 1\n",
    "    return data, labels"
   ]
  },
  {
   "cell_type": "code",
   "execution_count": 5,
   "metadata": {},
   "outputs": [],
   "source": [
    "\n",
    "# 3. Model Definition\n",
    "class SpiralNet(nn.Module):\n",
    "    def __init__(self, config):\n",
    "        super().__init__()\n",
    "        layers = []\n",
    "        layer_sizes = [2] + [config.hidden_size] * config.num_layers + [1]\n",
    "        \n",
    "        for i in range(len(layer_sizes)-1):\n",
    "            layers.append(nn.Linear(layer_sizes[i], layer_sizes[i+1]))\n",
    "            if i < len(layer_sizes)-2:\n",
    "                if config.activation == \"relu\":\n",
    "                    layers.append(nn.ReLU())\n",
    "                elif config.activation == \"tanh\":\n",
    "                    layers.append(nn.Tanh())\n",
    "                \n",
    "        self.network = nn.Sequential(*layers)\n",
    "    \n",
    "    def forward(self, x):\n",
    "        return self.network(x)\n"
   ]
  },
  {
   "cell_type": "code",
   "execution_count": 6,
   "metadata": {},
   "outputs": [],
   "source": [
    "# 4. Training Function\n",
    "def train(config=None):\n",
    "    with wandb.init(config=config):\n",
    "        config = wandb.config\n",
    "        \n",
    "        # Get data\n",
    "        x_train, y_train = generate_data(4000)\n",
    "        x_val, y_val = generate_data(1000)\n",
    "        train_dataset = TensorDataset(x_train, y_train)\n",
    "        \n",
    "        # Model & training setup\n",
    "        model = SpiralNet(config)\n",
    "        criterion = nn.BCEWithLogitsLoss()\n",
    "        optimizer = torch.optim.Adam(model.parameters(), lr=config.learning_rate)\n",
    "        \n",
    "        # Training loop\n",
    "        for epoch in range(config.epochs):\n",
    "            train_loader = DataLoader(train_dataset, batch_size=config.batch_size, shuffle=True)\n",
    "            \n",
    "            for x_batch, y_batch in train_loader:\n",
    "                optimizer.zero_grad()\n",
    "                output = model(x_batch).squeeze()\n",
    "                loss = criterion(output, y_batch.float())\n",
    "                loss.backward()\n",
    "                optimizer.step()\n",
    "            \n",
    "            # Validation\n",
    "            with torch.no_grad():\n",
    "                val_output = model(x_val).squeeze()\n",
    "                val_loss = criterion(val_output, y_val.float())\n",
    "                val_preds = (torch.sigmoid(val_output) > 0.5).float()\n",
    "                accuracy = (val_preds == y_val.float()).mean()\n",
    "            \n",
    "            wandb.log({\n",
    "                \"epoch\": epoch,\n",
    "                \"train_loss\": loss.item(),\n",
    "                \"val_loss\": val_loss.item(),\n",
    "                \"val_accuracy\": accuracy.item()\n",
    "            })\n"
   ]
  },
  {
   "cell_type": "code",
   "execution_count": 7,
   "metadata": {},
   "outputs": [],
   "source": [
    "# 5. Sweep Configuration\n",
    "sweep_config = {\n",
    "    'method': 'random',\n",
    "    'metric': {'name': 'val_accuracy', 'goal': 'maximize'},\n",
    "    'parameters': {\n",
    "        'learning_rate': {'min': 1e-4, 'max': 1e-2},\n",
    "        'batch_size': {'values': [16, 32, 64, 128]},\n",
    "        'hidden_size': {'values': [32, 64, 128]},\n",
    "        'num_layers': {'values': [2, 3, 4]},\n",
    "        'activation': {'values': ['relu', 'tanh']},\n",
    "        'epochs': {'value': 20}\n",
    "    }\n",
    "}"
   ]
  },
  {
   "cell_type": "code",
   "execution_count": 8,
   "metadata": {},
   "outputs": [
    {
     "name": "stderr",
     "output_type": "stream",
     "text": [
      "wandb: Using wandb-core as the SDK backend.  Please refer to https://wandb.me/wandb-core for more information.\n",
      "wandb: Logging into wandb.ai. (Learn how to deploy a W&B server locally: https://wandb.me/wandb-server)\n",
      "wandb: You can find your API key in your browser here: https://wandb.ai/authorize\n",
      "wandb: Paste an API key from your profile and hit enter, or press ctrl+c to quit:wandb: Paste an API key from your profile and hit enter, or press ctrl+c to quit:wandb: Paste an API key from your profile and hit enter, or press ctrl+c to quit:wandb: Paste an API key from your profile and hit enter, or press ctrl+c to quit:wandb: Paste an API key from your profile and hit enter, or press ctrl+c to quit:wandb: Appending key for api.wandb.ai to your netrc file: C:\\Users\\wusch\\_netrc\n"
     ]
    },
    {
     "name": "stdout",
     "output_type": "stream",
     "text": [
      "Create sweep with ID: r9t9p5i8\n",
      "Sweep URL: https://wandb.ai/wuschelschulz8/spiral-classification/sweeps/r9t9p5i8\n"
     ]
    },
    {
     "name": "stderr",
     "output_type": "stream",
     "text": [
      "wandb: Agent Starting Run: db63tn1b with config:\n",
      "wandb: \tactivation: tanh\n",
      "wandb: \tbatch_size: 64\n",
      "wandb: \tepochs: 20\n",
      "wandb: \thidden_size: 64\n",
      "wandb: \tlearning_rate: 0.009356238634557546\n",
      "wandb: \tnum_layers: 2\n",
      "wandb: Currently logged in as: wuschelschulz8. Use `wandb login --relogin` to force relogin\n"
     ]
    },
    {
     "data": {
      "application/vnd.jupyter.widget-view+json": {
       "model_id": "91e7889e37e749fdb19ad532a75e2a11",
       "version_major": 2,
       "version_minor": 0
      },
      "text/plain": [
       "VBox(children=(Label(value='Waiting for wandb.init()...\\r'), FloatProgress(value=0.011288888888925108, max=1.0…"
      ]
     },
     "metadata": {},
     "output_type": "display_data"
    },
    {
     "data": {
      "text/html": [
       "Tracking run with wandb version 0.19.1"
      ],
      "text/plain": [
       "<IPython.core.display.HTML object>"
      ]
     },
     "metadata": {},
     "output_type": "display_data"
    },
    {
     "data": {
      "text/html": [
       "Run data is saved locally in <code>c:\\Users\\wusch\\working_directory\\AI-verstehen-Winteraka-2024-25\\wandb\\run-20241229_172936-db63tn1b</code>"
      ],
      "text/plain": [
       "<IPython.core.display.HTML object>"
      ]
     },
     "metadata": {},
     "output_type": "display_data"
    },
    {
     "data": {
      "text/html": [
       "Syncing run <strong><a href='https://wandb.ai/wuschelschulz8/spiral-classification/runs/db63tn1b' target=\"_blank\">polished-firebrand-1</a></strong> to <a href='https://wandb.ai/wuschelschulz8/spiral-classification' target=\"_blank\">Weights & Biases</a> (<a href='https://wandb.me/developer-guide' target=\"_blank\">docs</a>)<br>Sweep page: <a href='https://wandb.ai/wuschelschulz8/spiral-classification/sweeps/r9t9p5i8' target=\"_blank\">https://wandb.ai/wuschelschulz8/spiral-classification/sweeps/r9t9p5i8</a>"
      ],
      "text/plain": [
       "<IPython.core.display.HTML object>"
      ]
     },
     "metadata": {},
     "output_type": "display_data"
    },
    {
     "data": {
      "text/html": [
       " View project at <a href='https://wandb.ai/wuschelschulz8/spiral-classification' target=\"_blank\">https://wandb.ai/wuschelschulz8/spiral-classification</a>"
      ],
      "text/plain": [
       "<IPython.core.display.HTML object>"
      ]
     },
     "metadata": {},
     "output_type": "display_data"
    },
    {
     "data": {
      "text/html": [
       " View sweep at <a href='https://wandb.ai/wuschelschulz8/spiral-classification/sweeps/r9t9p5i8' target=\"_blank\">https://wandb.ai/wuschelschulz8/spiral-classification/sweeps/r9t9p5i8</a>"
      ],
      "text/plain": [
       "<IPython.core.display.HTML object>"
      ]
     },
     "metadata": {},
     "output_type": "display_data"
    },
    {
     "data": {
      "text/html": [
       " View run at <a href='https://wandb.ai/wuschelschulz8/spiral-classification/runs/db63tn1b' target=\"_blank\">https://wandb.ai/wuschelschulz8/spiral-classification/runs/db63tn1b</a>"
      ],
      "text/plain": [
       "<IPython.core.display.HTML object>"
      ]
     },
     "metadata": {},
     "output_type": "display_data"
    },
    {
     "name": "stderr",
     "output_type": "stream",
     "text": [
      "Traceback (most recent call last):\n",
      "  File \"C:\\Users\\wusch\\AppData\\Local\\Temp\\ipykernel_22976\\2663321464.py\", line 32, in train\n",
      "    accuracy = (val_preds == y_val.float()).mean()\n",
      "               ^^^^^^^^^^^^^^^^^^^^^^^^^^^^^^^^^^^\n",
      "RuntimeError: mean(): could not infer output dtype. Input dtype must be either a floating point or complex dtype. Got: Bool\n"
     ]
    },
    {
     "data": {
      "text/html": [],
      "text/plain": [
       "<IPython.core.display.HTML object>"
      ]
     },
     "metadata": {},
     "output_type": "display_data"
    },
    {
     "data": {
      "text/html": [
       " View run <strong style=\"color:#cdcd00\">polished-firebrand-1</strong> at: <a href='https://wandb.ai/wuschelschulz8/spiral-classification/runs/db63tn1b' target=\"_blank\">https://wandb.ai/wuschelschulz8/spiral-classification/runs/db63tn1b</a><br> View project at: <a href='https://wandb.ai/wuschelschulz8/spiral-classification' target=\"_blank\">https://wandb.ai/wuschelschulz8/spiral-classification</a><br>Synced 5 W&B file(s), 0 media file(s), 0 artifact file(s) and 0 other file(s)"
      ],
      "text/plain": [
       "<IPython.core.display.HTML object>"
      ]
     },
     "metadata": {},
     "output_type": "display_data"
    },
    {
     "data": {
      "text/html": [
       "Find logs at: <code>.\\wandb\\run-20241229_172936-db63tn1b\\logs</code>"
      ],
      "text/plain": [
       "<IPython.core.display.HTML object>"
      ]
     },
     "metadata": {},
     "output_type": "display_data"
    },
    {
     "name": "stderr",
     "output_type": "stream",
     "text": [
      "Run db63tn1b errored:\n",
      "Traceback (most recent call last):\n",
      "  File \"c:\\Users\\wusch\\working_directory\\AI-verstehen-Winteraka-2024-25\\venv\\Lib\\site-packages\\wandb\\agents\\pyagent.py\", line 306, in _run_job\n",
      "    self._function()\n",
      "  File \"C:\\Users\\wusch\\AppData\\Local\\Temp\\ipykernel_22976\\2663321464.py\", line 32, in train\n",
      "    accuracy = (val_preds == y_val.float()).mean()\n",
      "               ^^^^^^^^^^^^^^^^^^^^^^^^^^^^^^^^^^^\n",
      "RuntimeError: mean(): could not infer output dtype. Input dtype must be either a floating point or complex dtype. Got: Bool\n",
      "\n",
      "wandb: ERROR Run db63tn1b errored:\n",
      "wandb: ERROR Traceback (most recent call last):\n",
      "wandb: ERROR   File \"c:\\Users\\wusch\\working_directory\\AI-verstehen-Winteraka-2024-25\\venv\\Lib\\site-packages\\wandb\\agents\\pyagent.py\", line 306, in _run_job\n",
      "wandb: ERROR     self._function()\n",
      "wandb: ERROR   File \"C:\\Users\\wusch\\AppData\\Local\\Temp\\ipykernel_22976\\2663321464.py\", line 32, in train\n",
      "wandb: ERROR     accuracy = (val_preds == y_val.float()).mean()\n",
      "wandb: ERROR                ^^^^^^^^^^^^^^^^^^^^^^^^^^^^^^^^^^^\n",
      "wandb: ERROR RuntimeError: mean(): could not infer output dtype. Input dtype must be either a floating point or complex dtype. Got: Bool\n",
      "wandb: ERROR \n",
      "wandb: Agent Starting Run: cdpo9lrg with config:\n",
      "wandb: \tactivation: tanh\n",
      "wandb: \tbatch_size: 32\n",
      "wandb: \tepochs: 20\n",
      "wandb: \thidden_size: 32\n",
      "wandb: \tlearning_rate: 0.0003517680841740224\n",
      "wandb: \tnum_layers: 3\n"
     ]
    },
    {
     "data": {
      "application/vnd.jupyter.widget-view+json": {
       "model_id": "cadd673eb9434faa94ef84e83823ccc4",
       "version_major": 2,
       "version_minor": 0
      },
      "text/plain": [
       "VBox(children=(Label(value='Waiting for wandb.init()...\\r'), FloatProgress(value=0.011288888888925108, max=1.0…"
      ]
     },
     "metadata": {},
     "output_type": "display_data"
    },
    {
     "data": {
      "text/html": [
       "Tracking run with wandb version 0.19.1"
      ],
      "text/plain": [
       "<IPython.core.display.HTML object>"
      ]
     },
     "metadata": {},
     "output_type": "display_data"
    },
    {
     "data": {
      "text/html": [
       "Run data is saved locally in <code>c:\\Users\\wusch\\working_directory\\AI-verstehen-Winteraka-2024-25\\wandb\\run-20241229_172948-cdpo9lrg</code>"
      ],
      "text/plain": [
       "<IPython.core.display.HTML object>"
      ]
     },
     "metadata": {},
     "output_type": "display_data"
    },
    {
     "data": {
      "text/html": [
       "Syncing run <strong><a href='https://wandb.ai/wuschelschulz8/spiral-classification/runs/cdpo9lrg' target=\"_blank\">devout-sweep-2</a></strong> to <a href='https://wandb.ai/wuschelschulz8/spiral-classification' target=\"_blank\">Weights & Biases</a> (<a href='https://wandb.me/developer-guide' target=\"_blank\">docs</a>)<br>Sweep page: <a href='https://wandb.ai/wuschelschulz8/spiral-classification/sweeps/r9t9p5i8' target=\"_blank\">https://wandb.ai/wuschelschulz8/spiral-classification/sweeps/r9t9p5i8</a>"
      ],
      "text/plain": [
       "<IPython.core.display.HTML object>"
      ]
     },
     "metadata": {},
     "output_type": "display_data"
    },
    {
     "data": {
      "text/html": [
       " View project at <a href='https://wandb.ai/wuschelschulz8/spiral-classification' target=\"_blank\">https://wandb.ai/wuschelschulz8/spiral-classification</a>"
      ],
      "text/plain": [
       "<IPython.core.display.HTML object>"
      ]
     },
     "metadata": {},
     "output_type": "display_data"
    },
    {
     "data": {
      "text/html": [
       " View sweep at <a href='https://wandb.ai/wuschelschulz8/spiral-classification/sweeps/r9t9p5i8' target=\"_blank\">https://wandb.ai/wuschelschulz8/spiral-classification/sweeps/r9t9p5i8</a>"
      ],
      "text/plain": [
       "<IPython.core.display.HTML object>"
      ]
     },
     "metadata": {},
     "output_type": "display_data"
    },
    {
     "data": {
      "text/html": [
       " View run at <a href='https://wandb.ai/wuschelschulz8/spiral-classification/runs/cdpo9lrg' target=\"_blank\">https://wandb.ai/wuschelschulz8/spiral-classification/runs/cdpo9lrg</a>"
      ],
      "text/plain": [
       "<IPython.core.display.HTML object>"
      ]
     },
     "metadata": {},
     "output_type": "display_data"
    },
    {
     "name": "stderr",
     "output_type": "stream",
     "text": [
      "Traceback (most recent call last):\n",
      "  File \"C:\\Users\\wusch\\AppData\\Local\\Temp\\ipykernel_22976\\2663321464.py\", line 32, in train\n",
      "    accuracy = (val_preds == y_val.float()).mean()\n",
      "               ^^^^^^^^^^^^^^^^^^^^^^^^^^^^^^^^^^^\n",
      "RuntimeError: mean(): could not infer output dtype. Input dtype must be either a floating point or complex dtype. Got: Bool\n"
     ]
    },
    {
     "data": {
      "text/html": [],
      "text/plain": [
       "<IPython.core.display.HTML object>"
      ]
     },
     "metadata": {},
     "output_type": "display_data"
    },
    {
     "data": {
      "text/html": [
       " View run <strong style=\"color:#cdcd00\">devout-sweep-2</strong> at: <a href='https://wandb.ai/wuschelschulz8/spiral-classification/runs/cdpo9lrg' target=\"_blank\">https://wandb.ai/wuschelschulz8/spiral-classification/runs/cdpo9lrg</a><br> View project at: <a href='https://wandb.ai/wuschelschulz8/spiral-classification' target=\"_blank\">https://wandb.ai/wuschelschulz8/spiral-classification</a><br>Synced 5 W&B file(s), 0 media file(s), 0 artifact file(s) and 0 other file(s)"
      ],
      "text/plain": [
       "<IPython.core.display.HTML object>"
      ]
     },
     "metadata": {},
     "output_type": "display_data"
    },
    {
     "data": {
      "text/html": [
       "Find logs at: <code>.\\wandb\\run-20241229_172948-cdpo9lrg\\logs</code>"
      ],
      "text/plain": [
       "<IPython.core.display.HTML object>"
      ]
     },
     "metadata": {},
     "output_type": "display_data"
    },
    {
     "name": "stderr",
     "output_type": "stream",
     "text": [
      "Run cdpo9lrg errored:\n",
      "Traceback (most recent call last):\n",
      "  File \"c:\\Users\\wusch\\working_directory\\AI-verstehen-Winteraka-2024-25\\venv\\Lib\\site-packages\\wandb\\agents\\pyagent.py\", line 306, in _run_job\n",
      "    self._function()\n",
      "  File \"C:\\Users\\wusch\\AppData\\Local\\Temp\\ipykernel_22976\\2663321464.py\", line 32, in train\n",
      "    accuracy = (val_preds == y_val.float()).mean()\n",
      "               ^^^^^^^^^^^^^^^^^^^^^^^^^^^^^^^^^^^\n",
      "RuntimeError: mean(): could not infer output dtype. Input dtype must be either a floating point or complex dtype. Got: Bool\n",
      "\n",
      "wandb: ERROR Run cdpo9lrg errored:\n",
      "wandb: ERROR Traceback (most recent call last):\n",
      "wandb: ERROR   File \"c:\\Users\\wusch\\working_directory\\AI-verstehen-Winteraka-2024-25\\venv\\Lib\\site-packages\\wandb\\agents\\pyagent.py\", line 306, in _run_job\n",
      "wandb: ERROR     self._function()\n",
      "wandb: ERROR   File \"C:\\Users\\wusch\\AppData\\Local\\Temp\\ipykernel_22976\\2663321464.py\", line 32, in train\n",
      "wandb: ERROR     accuracy = (val_preds == y_val.float()).mean()\n",
      "wandb: ERROR                ^^^^^^^^^^^^^^^^^^^^^^^^^^^^^^^^^^^\n",
      "wandb: ERROR RuntimeError: mean(): could not infer output dtype. Input dtype must be either a floating point or complex dtype. Got: Bool\n",
      "wandb: ERROR \n",
      "wandb: Agent Starting Run: om9tw1et with config:\n",
      "wandb: \tactivation: tanh\n",
      "wandb: \tbatch_size: 16\n",
      "wandb: \tepochs: 20\n",
      "wandb: \thidden_size: 32\n",
      "wandb: \tlearning_rate: 0.009003495425960574\n",
      "wandb: \tnum_layers: 4\n"
     ]
    },
    {
     "data": {
      "text/html": [
       "Tracking run with wandb version 0.19.1"
      ],
      "text/plain": [
       "<IPython.core.display.HTML object>"
      ]
     },
     "metadata": {},
     "output_type": "display_data"
    },
    {
     "data": {
      "text/html": [
       "Run data is saved locally in <code>c:\\Users\\wusch\\working_directory\\AI-verstehen-Winteraka-2024-25\\wandb\\run-20241229_172953-om9tw1et</code>"
      ],
      "text/plain": [
       "<IPython.core.display.HTML object>"
      ]
     },
     "metadata": {},
     "output_type": "display_data"
    },
    {
     "data": {
      "text/html": [
       "Syncing run <strong><a href='https://wandb.ai/wuschelschulz8/spiral-classification/runs/om9tw1et' target=\"_blank\">icy-sweep-3</a></strong> to <a href='https://wandb.ai/wuschelschulz8/spiral-classification' target=\"_blank\">Weights & Biases</a> (<a href='https://wandb.me/developer-guide' target=\"_blank\">docs</a>)<br>Sweep page: <a href='https://wandb.ai/wuschelschulz8/spiral-classification/sweeps/r9t9p5i8' target=\"_blank\">https://wandb.ai/wuschelschulz8/spiral-classification/sweeps/r9t9p5i8</a>"
      ],
      "text/plain": [
       "<IPython.core.display.HTML object>"
      ]
     },
     "metadata": {},
     "output_type": "display_data"
    },
    {
     "data": {
      "text/html": [
       " View project at <a href='https://wandb.ai/wuschelschulz8/spiral-classification' target=\"_blank\">https://wandb.ai/wuschelschulz8/spiral-classification</a>"
      ],
      "text/plain": [
       "<IPython.core.display.HTML object>"
      ]
     },
     "metadata": {},
     "output_type": "display_data"
    },
    {
     "data": {
      "text/html": [
       " View sweep at <a href='https://wandb.ai/wuschelschulz8/spiral-classification/sweeps/r9t9p5i8' target=\"_blank\">https://wandb.ai/wuschelschulz8/spiral-classification/sweeps/r9t9p5i8</a>"
      ],
      "text/plain": [
       "<IPython.core.display.HTML object>"
      ]
     },
     "metadata": {},
     "output_type": "display_data"
    },
    {
     "data": {
      "text/html": [
       " View run at <a href='https://wandb.ai/wuschelschulz8/spiral-classification/runs/om9tw1et' target=\"_blank\">https://wandb.ai/wuschelschulz8/spiral-classification/runs/om9tw1et</a>"
      ],
      "text/plain": [
       "<IPython.core.display.HTML object>"
      ]
     },
     "metadata": {},
     "output_type": "display_data"
    },
    {
     "name": "stderr",
     "output_type": "stream",
     "text": [
      "Traceback (most recent call last):\n",
      "  File \"C:\\Users\\wusch\\AppData\\Local\\Temp\\ipykernel_22976\\2663321464.py\", line 32, in train\n",
      "    accuracy = (val_preds == y_val.float()).mean()\n",
      "               ^^^^^^^^^^^^^^^^^^^^^^^^^^^^^^^^^^^\n",
      "RuntimeError: mean(): could not infer output dtype. Input dtype must be either a floating point or complex dtype. Got: Bool\n"
     ]
    },
    {
     "data": {
      "text/html": [],
      "text/plain": [
       "<IPython.core.display.HTML object>"
      ]
     },
     "metadata": {},
     "output_type": "display_data"
    },
    {
     "data": {
      "text/html": [
       " View run <strong style=\"color:#cdcd00\">icy-sweep-3</strong> at: <a href='https://wandb.ai/wuschelschulz8/spiral-classification/runs/om9tw1et' target=\"_blank\">https://wandb.ai/wuschelschulz8/spiral-classification/runs/om9tw1et</a><br> View project at: <a href='https://wandb.ai/wuschelschulz8/spiral-classification' target=\"_blank\">https://wandb.ai/wuschelschulz8/spiral-classification</a><br>Synced 5 W&B file(s), 0 media file(s), 0 artifact file(s) and 0 other file(s)"
      ],
      "text/plain": [
       "<IPython.core.display.HTML object>"
      ]
     },
     "metadata": {},
     "output_type": "display_data"
    },
    {
     "data": {
      "text/html": [
       "Find logs at: <code>.\\wandb\\run-20241229_172953-om9tw1et\\logs</code>"
      ],
      "text/plain": [
       "<IPython.core.display.HTML object>"
      ]
     },
     "metadata": {},
     "output_type": "display_data"
    },
    {
     "name": "stderr",
     "output_type": "stream",
     "text": [
      "Run om9tw1et errored:\n",
      "Traceback (most recent call last):\n",
      "  File \"c:\\Users\\wusch\\working_directory\\AI-verstehen-Winteraka-2024-25\\venv\\Lib\\site-packages\\wandb\\agents\\pyagent.py\", line 306, in _run_job\n",
      "    self._function()\n",
      "  File \"C:\\Users\\wusch\\AppData\\Local\\Temp\\ipykernel_22976\\2663321464.py\", line 32, in train\n",
      "    accuracy = (val_preds == y_val.float()).mean()\n",
      "               ^^^^^^^^^^^^^^^^^^^^^^^^^^^^^^^^^^^\n",
      "RuntimeError: mean(): could not infer output dtype. Input dtype must be either a floating point or complex dtype. Got: Bool\n",
      "\n",
      "wandb: ERROR Run om9tw1et errored:\n",
      "wandb: ERROR Traceback (most recent call last):\n",
      "wandb: ERROR   File \"c:\\Users\\wusch\\working_directory\\AI-verstehen-Winteraka-2024-25\\venv\\Lib\\site-packages\\wandb\\agents\\pyagent.py\", line 306, in _run_job\n",
      "wandb: ERROR     self._function()\n",
      "wandb: ERROR   File \"C:\\Users\\wusch\\AppData\\Local\\Temp\\ipykernel_22976\\2663321464.py\", line 32, in train\n",
      "wandb: ERROR     accuracy = (val_preds == y_val.float()).mean()\n",
      "wandb: ERROR                ^^^^^^^^^^^^^^^^^^^^^^^^^^^^^^^^^^^\n",
      "wandb: ERROR RuntimeError: mean(): could not infer output dtype. Input dtype must be either a floating point or complex dtype. Got: Bool\n",
      "wandb: ERROR \n",
      "Detected 3 failed runs in the first 60 seconds, killing sweep.\n",
      "wandb: ERROR Detected 3 failed runs in the first 60 seconds, killing sweep.\n",
      "wandb: To disable this check set WANDB_AGENT_DISABLE_FLAPPING=true\n"
     ]
    }
   ],
   "source": [
    "\n",
    "# 6. Run Sweep\n",
    "wandb.login()\n",
    "sweep_id = wandb.sweep(sweep_config, project=\"spiral-classification\")\n",
    "wandb.agent(sweep_id, train, count=20)"
   ]
  }
 ],
 "metadata": {
  "kernelspec": {
   "display_name": "venv",
   "language": "python",
   "name": "python3"
  },
  "language_info": {
   "codemirror_mode": {
    "name": "ipython",
    "version": 3
   },
   "file_extension": ".py",
   "mimetype": "text/x-python",
   "name": "python",
   "nbconvert_exporter": "python",
   "pygments_lexer": "ipython3",
   "version": "3.11.9"
  }
 },
 "nbformat": 4,
 "nbformat_minor": 2
}
